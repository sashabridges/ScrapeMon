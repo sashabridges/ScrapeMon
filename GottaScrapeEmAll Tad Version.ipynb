{
 "cells": [
  {
   "cell_type": "code",
   "execution_count": 3,
   "metadata": {},
   "outputs": [],
   "source": [
    "# Dependencies\n",
    "import os\n",
    "from splinter import Browser\n",
    "from bs4 import BeautifulSoup as bs\n",
    "import requests\n",
    "import pymongo\n",
    "import pandas as pd\n",
    "import csv\n",
    "import requests\n",
    "from sqlalchemy import create_engine"
   ]
  },
  {
   "cell_type": "code",
   "execution_count": 4,
   "metadata": {},
   "outputs": [
    {
     "name": "stdout",
     "output_type": "stream",
     "text": [
      "/usr/local/bin/chromedriver\r\n"
     ]
    }
   ],
   "source": [
    "# TAD USE THIS CONNECTION\n",
    "#https://splinter.readthedocs.io/en/latest/drivers/chrome.html\n",
    "!which chromedriver\n",
    "executable_path = {'executable_path': '/usr/local/bin/chromedriver'}\n",
    "browser = Browser('chrome', **executable_path, headless=False)"
   ]
  },
  {
   "cell_type": "code",
   "execution_count": null,
   "metadata": {},
   "outputs": [],
   "source": [
    "# EVERYONE ELSE USE THIS CONNECTION\n",
    "executable_path = {'executable_path': 'chromedriver.exe'}\n",
    "browser = Browser('chrome', **executable_path, headless=False)"
   ]
  },
  {
   "cell_type": "code",
   "execution_count": 5,
   "metadata": {},
   "outputs": [],
   "source": [
    "# FOR SEREBII\n",
    "url = 'https://www.serebii.net/pokedex-sm/001.shtml'\n",
    "browser.visit(url)\n",
    "\n",
    "for x in range(1, 100):\n",
    "\n",
    "    html = browser.html\n",
    "    soup = bs(html, 'html.parser')\n",
    "\n",
    "    # CHANGE THIS SO THAT IT FINDS THE RIGHT DATA\n",
    "    quotes = soup.find_all('span', class_='text')\n",
    "\n",
    "    for quote in quotes:\n",
    "        print('page:', x, '-------------')\n",
    "        print(quote.text)\n",
    "\n",
    "    browser.click_link_by_partial_text('Next')"
   ]
  },
  {
   "cell_type": "code",
   "execution_count": 6,
   "metadata": {},
   "outputs": [],
   "source": [
    "# FOR BULBAPEDIA\n",
    "url = 'https://bulbapedia.bulbagarden.net/wiki/Bulbasaur_(Pok%C3%A9mon)'\n",
    "browser.visit(url)\n",
    "\n",
    "for x in range(1, 100):\n",
    "\n",
    "    html = browser.html\n",
    "    soup = bs(html, 'html.parser')\n",
    "\n",
    "    # CHANGE THIS SO THAT IT FINDS THE RIGHT DATA\n",
    "    quotes = soup.find_all('span', class_='text')\n",
    "\n",
    "    for quote in quotes:\n",
    "        print('page:', x, '-------------')\n",
    "        print(quote.text)\n",
    "\n",
    "    browser.click_link_by_partial_text('Next')"
   ]
  },
  {
   "cell_type": "code",
   "execution_count": null,
   "metadata": {},
   "outputs": [],
   "source": []
  },
  {
   "cell_type": "code",
   "execution_count": 8,
   "metadata": {},
   "outputs": [
    {
     "name": "stdout",
     "output_type": "stream",
     "text": [
      "bulbasaur\n",
      "ivysaur\n",
      "venusaur\n",
      "No Second Type charmander\n",
      "Second Ability charmander\n",
      "No Second Type charmeleon\n",
      "Second Ability charmeleon\n",
      "charizard\n",
      "No Second Type squirtle\n",
      "Second Ability squirtle\n",
      "No Second Type wartortle\n",
      "Second Ability wartortle\n",
      "No Second Type blastoise\n",
      "Second Ability blastoise\n",
      "9\n",
      "9\n",
      "9\n",
      "9\n",
      "9\n",
      "9\n",
      "9\n",
      "9\n",
      "9\n",
      "9\n",
      "9\n",
      "9\n",
      "9\n",
      "9\n",
      "9\n",
      "9\n",
      "9\n",
      "9\n"
     ]
    }
   ],
   "source": [
    "# FOR POKE-API\n",
    "# https://pokeapi.co/\n",
    "api_name = []\n",
    "api_type = []\n",
    "api_type2 = []\n",
    "id_no = []\n",
    "speed = []\n",
    "spdef = []\n",
    "spatk = []\n",
    "dfn = []\n",
    "atk = []\n",
    "hp = []\n",
    "weight = []\n",
    "base_exp = []\n",
    "back_sprite = []\n",
    "back_shiny = []\n",
    "front_sprite = []\n",
    "front_shiny = []\n",
    "ability_one = []\n",
    "ability_two = []\n",
    "url = 'https://pokeapi.co/api/v2/'\n",
    "query_url = url + 'pokemon/'\n",
    "\n",
    "for index in range(1, 10):\n",
    "    response = requests.get(query_url + str(index)).json()\n",
    "    try:\n",
    "        api_name.append(response['species']['name'])\n",
    "        api_type.append(response['types'][0]['type']['name'])\n",
    "        id_no.append(response['id'])\n",
    "        speed.append(response['stats'][0]['base_stat'])\n",
    "        spdef.append(response['stats'][1]['base_stat'])\n",
    "        spatk.append(response['stats'][2]['base_stat'])\n",
    "        dfn.append(response['stats'][3]['base_stat'])\n",
    "        atk.append(response['stats'][4]['base_stat'])\n",
    "        hp.append(response['stats'][5]['base_stat'])\n",
    "        weight.append(response['weight'])\n",
    "        base_exp.append(response['base_experience'])\n",
    "        back_sprite.append(response['sprites']['back_default'])\n",
    "        back_shiny.append(response['sprites']['back_shiny'])\n",
    "        front_sprite.append(response['sprites']['front_default'])\n",
    "        front_shiny.append(response['sprites']['front_shiny'])\n",
    "        api_type2.append(response['types'][1]['type']['name'])\n",
    "        ability_one.append(response['abilities'][0]['ability']['name'])\n",
    "        ability_two.append(response['abilities'][1]['ability']['name'])\n",
    "        \n",
    "        print(response['species']['name'])\n",
    "        \n",
    "    except:\n",
    "        #api_name.append(response['species']['name'])\n",
    "        #api_type.append(response['types'][0]['type']['name'])\n",
    "        if (len(api_type2) < len(api_type)):\n",
    "            api_type2.append('No Second Type')\n",
    "        #id_no.append(response['id'])\n",
    "        #speed.append(response['stats'][0]['base_stat'])\n",
    "        #spdef.append(response['stats'][1]['base_stat'])\n",
    "        #spatk.append(response['stats'][2]['base_stat'])\n",
    "        #dfn.append(response['stats'][3]['base_stat'])\n",
    "        #atk.append(response['stats'][4]['base_stat'])\n",
    "        #hp.append(response['stats'][5]['base_stat'])        \n",
    "        #weight.append(response['weight'])\n",
    "        #base_exp.append(response['base_experience'])\n",
    "        #back_sprite.append(response['sprites']['back_default'])\n",
    "        #back_shiny.append(response['sprites']['back_shiny'])\n",
    "        #front_sprite.append(response['sprites']['front_default'])\n",
    "        #front_shiny.append(response['sprites']['front_shiny'])\n",
    "        if (len(ability_one) < len(api_type)):\n",
    "            ability_one.append(response['abilities'][0]['ability']['name'])\n",
    "        print('No Second Type ' + response['species']['name'])\n",
    "        try:\n",
    "            ability_two.append(response['abilities'][1]['ability']['name'])\n",
    "            print('Second Ability ' + response['species']['name'])\n",
    "        except:\n",
    "            ability_two.append('No Second Ability')\n",
    "            print('No Second Ability ' + response['species']['name'])\n",
    "            \n",
    "print(len(api_name))\n",
    "print(len(api_type))\n",
    "print(len(api_type2))\n",
    "print(len(id_no))\n",
    "print(len(speed))\n",
    "print(len(spdef))\n",
    "print(len(spatk))\n",
    "print(len(dfn))\n",
    "print(len(atk))\n",
    "print(len(hp))\n",
    "print(len(weight))\n",
    "print(len(base_exp))\n",
    "print(len(back_sprite))\n",
    "print(len(back_shiny))\n",
    "print(len(front_sprite))\n",
    "print(len(front_shiny))\n",
    "print(len(ability_one))\n",
    "print(len(ability_two))"
   ]
  },
  {
   "cell_type": "code",
   "execution_count": 9,
   "metadata": {},
   "outputs": [
    {
     "name": "stdout",
     "output_type": "stream",
     "text": [
      "9\n",
      "9\n",
      "9\n",
      "9\n",
      "9\n",
      "9\n",
      "9\n",
      "9\n",
      "9\n",
      "9\n",
      "9\n",
      "9\n",
      "9\n",
      "9\n",
      "9\n",
      "9\n",
      "9\n",
      "9\n",
      "['poison', 'poison', 'poison', 'fire', 'fire', 'flying', 'water', 'water', 'water']\n",
      "[1, 2, 3, 4, 5, 6, 7, 8, 9]\n"
     ]
    }
   ],
   "source": [
    "#print(api_type2)\n",
    "#print(ability_one)\n",
    "print(len(api_name))\n",
    "print(len(api_type))\n",
    "print(len(api_type2))\n",
    "print(len(id_no))\n",
    "print(len(speed))\n",
    "print(len(spdef))\n",
    "print(len(spatk))\n",
    "print(len(dfn))\n",
    "print(len(atk))\n",
    "print(len(hp))\n",
    "print(len(weight))\n",
    "print(len(base_exp))\n",
    "print(len(back_sprite))\n",
    "print(len(back_shiny))\n",
    "print(len(front_sprite))\n",
    "print(len(front_shiny))\n",
    "print(len(ability_one))\n",
    "print(len(ability_two))\n",
    "\n",
    "print(api_type)\n",
    "print(id_no)"
   ]
  },
  {
   "cell_type": "code",
   "execution_count": 10,
   "metadata": {},
   "outputs": [
    {
     "data": {
      "text/html": [
       "<div>\n",
       "<style scoped>\n",
       "    .dataframe tbody tr th:only-of-type {\n",
       "        vertical-align: middle;\n",
       "    }\n",
       "\n",
       "    .dataframe tbody tr th {\n",
       "        vertical-align: top;\n",
       "    }\n",
       "\n",
       "    .dataframe thead th {\n",
       "        text-align: right;\n",
       "    }\n",
       "</style>\n",
       "<table border=\"1\" class=\"dataframe\">\n",
       "  <thead>\n",
       "    <tr style=\"text-align: right;\">\n",
       "      <th></th>\n",
       "      <th>Name</th>\n",
       "      <th>Type 1</th>\n",
       "      <th>Type 2</th>\n",
       "      <th>Number</th>\n",
       "      <th>Speed</th>\n",
       "      <th>Special Def</th>\n",
       "      <th>Special Atk</th>\n",
       "      <th>Defense</th>\n",
       "      <th>Attack</th>\n",
       "      <th>HP</th>\n",
       "      <th>Weight</th>\n",
       "      <th>Base Experience</th>\n",
       "      <th>Ability One</th>\n",
       "      <th>Ability Two</th>\n",
       "      <th>Back Sprite</th>\n",
       "      <th>Back Shiny</th>\n",
       "      <th>Front Sprite</th>\n",
       "      <th>Front Shiny</th>\n",
       "    </tr>\n",
       "  </thead>\n",
       "  <tbody>\n",
       "    <tr>\n",
       "      <th>0</th>\n",
       "      <td>bulbasaur</td>\n",
       "      <td>poison</td>\n",
       "      <td>grass</td>\n",
       "      <td>1</td>\n",
       "      <td>45</td>\n",
       "      <td>65</td>\n",
       "      <td>65</td>\n",
       "      <td>49</td>\n",
       "      <td>49</td>\n",
       "      <td>45</td>\n",
       "      <td>69</td>\n",
       "      <td>64</td>\n",
       "      <td>chlorophyll</td>\n",
       "      <td>overgrow</td>\n",
       "      <td>https://raw.githubusercontent.com/PokeAPI/spri...</td>\n",
       "      <td>https://raw.githubusercontent.com/PokeAPI/spri...</td>\n",
       "      <td>https://raw.githubusercontent.com/PokeAPI/spri...</td>\n",
       "      <td>https://raw.githubusercontent.com/PokeAPI/spri...</td>\n",
       "    </tr>\n",
       "    <tr>\n",
       "      <th>1</th>\n",
       "      <td>ivysaur</td>\n",
       "      <td>poison</td>\n",
       "      <td>grass</td>\n",
       "      <td>2</td>\n",
       "      <td>60</td>\n",
       "      <td>80</td>\n",
       "      <td>80</td>\n",
       "      <td>63</td>\n",
       "      <td>62</td>\n",
       "      <td>60</td>\n",
       "      <td>130</td>\n",
       "      <td>142</td>\n",
       "      <td>chlorophyll</td>\n",
       "      <td>overgrow</td>\n",
       "      <td>https://raw.githubusercontent.com/PokeAPI/spri...</td>\n",
       "      <td>https://raw.githubusercontent.com/PokeAPI/spri...</td>\n",
       "      <td>https://raw.githubusercontent.com/PokeAPI/spri...</td>\n",
       "      <td>https://raw.githubusercontent.com/PokeAPI/spri...</td>\n",
       "    </tr>\n",
       "    <tr>\n",
       "      <th>2</th>\n",
       "      <td>venusaur</td>\n",
       "      <td>poison</td>\n",
       "      <td>grass</td>\n",
       "      <td>3</td>\n",
       "      <td>80</td>\n",
       "      <td>100</td>\n",
       "      <td>100</td>\n",
       "      <td>83</td>\n",
       "      <td>82</td>\n",
       "      <td>80</td>\n",
       "      <td>1000</td>\n",
       "      <td>236</td>\n",
       "      <td>chlorophyll</td>\n",
       "      <td>overgrow</td>\n",
       "      <td>https://raw.githubusercontent.com/PokeAPI/spri...</td>\n",
       "      <td>https://raw.githubusercontent.com/PokeAPI/spri...</td>\n",
       "      <td>https://raw.githubusercontent.com/PokeAPI/spri...</td>\n",
       "      <td>https://raw.githubusercontent.com/PokeAPI/spri...</td>\n",
       "    </tr>\n",
       "    <tr>\n",
       "      <th>3</th>\n",
       "      <td>charmander</td>\n",
       "      <td>fire</td>\n",
       "      <td>No Second Type</td>\n",
       "      <td>4</td>\n",
       "      <td>65</td>\n",
       "      <td>50</td>\n",
       "      <td>60</td>\n",
       "      <td>43</td>\n",
       "      <td>52</td>\n",
       "      <td>39</td>\n",
       "      <td>85</td>\n",
       "      <td>62</td>\n",
       "      <td>solar-power</td>\n",
       "      <td>blaze</td>\n",
       "      <td>https://raw.githubusercontent.com/PokeAPI/spri...</td>\n",
       "      <td>https://raw.githubusercontent.com/PokeAPI/spri...</td>\n",
       "      <td>https://raw.githubusercontent.com/PokeAPI/spri...</td>\n",
       "      <td>https://raw.githubusercontent.com/PokeAPI/spri...</td>\n",
       "    </tr>\n",
       "    <tr>\n",
       "      <th>4</th>\n",
       "      <td>charmeleon</td>\n",
       "      <td>fire</td>\n",
       "      <td>No Second Type</td>\n",
       "      <td>5</td>\n",
       "      <td>80</td>\n",
       "      <td>65</td>\n",
       "      <td>80</td>\n",
       "      <td>58</td>\n",
       "      <td>64</td>\n",
       "      <td>58</td>\n",
       "      <td>190</td>\n",
       "      <td>142</td>\n",
       "      <td>solar-power</td>\n",
       "      <td>blaze</td>\n",
       "      <td>https://raw.githubusercontent.com/PokeAPI/spri...</td>\n",
       "      <td>https://raw.githubusercontent.com/PokeAPI/spri...</td>\n",
       "      <td>https://raw.githubusercontent.com/PokeAPI/spri...</td>\n",
       "      <td>https://raw.githubusercontent.com/PokeAPI/spri...</td>\n",
       "    </tr>\n",
       "  </tbody>\n",
       "</table>\n",
       "</div>"
      ],
      "text/plain": [
       "         Name  Type 1          Type 2  Number  Speed  Special Def  \\\n",
       "0   bulbasaur  poison           grass       1     45           65   \n",
       "1     ivysaur  poison           grass       2     60           80   \n",
       "2    venusaur  poison           grass       3     80          100   \n",
       "3  charmander    fire  No Second Type       4     65           50   \n",
       "4  charmeleon    fire  No Second Type       5     80           65   \n",
       "\n",
       "   Special Atk  Defense  Attack  HP  Weight  Base Experience  Ability One  \\\n",
       "0           65       49      49  45      69               64  chlorophyll   \n",
       "1           80       63      62  60     130              142  chlorophyll   \n",
       "2          100       83      82  80    1000              236  chlorophyll   \n",
       "3           60       43      52  39      85               62  solar-power   \n",
       "4           80       58      64  58     190              142  solar-power   \n",
       "\n",
       "  Ability Two                                        Back Sprite  \\\n",
       "0    overgrow  https://raw.githubusercontent.com/PokeAPI/spri...   \n",
       "1    overgrow  https://raw.githubusercontent.com/PokeAPI/spri...   \n",
       "2    overgrow  https://raw.githubusercontent.com/PokeAPI/spri...   \n",
       "3       blaze  https://raw.githubusercontent.com/PokeAPI/spri...   \n",
       "4       blaze  https://raw.githubusercontent.com/PokeAPI/spri...   \n",
       "\n",
       "                                          Back Shiny  \\\n",
       "0  https://raw.githubusercontent.com/PokeAPI/spri...   \n",
       "1  https://raw.githubusercontent.com/PokeAPI/spri...   \n",
       "2  https://raw.githubusercontent.com/PokeAPI/spri...   \n",
       "3  https://raw.githubusercontent.com/PokeAPI/spri...   \n",
       "4  https://raw.githubusercontent.com/PokeAPI/spri...   \n",
       "\n",
       "                                        Front Sprite  \\\n",
       "0  https://raw.githubusercontent.com/PokeAPI/spri...   \n",
       "1  https://raw.githubusercontent.com/PokeAPI/spri...   \n",
       "2  https://raw.githubusercontent.com/PokeAPI/spri...   \n",
       "3  https://raw.githubusercontent.com/PokeAPI/spri...   \n",
       "4  https://raw.githubusercontent.com/PokeAPI/spri...   \n",
       "\n",
       "                                         Front Shiny  \n",
       "0  https://raw.githubusercontent.com/PokeAPI/spri...  \n",
       "1  https://raw.githubusercontent.com/PokeAPI/spri...  \n",
       "2  https://raw.githubusercontent.com/PokeAPI/spri...  \n",
       "3  https://raw.githubusercontent.com/PokeAPI/spri...  \n",
       "4  https://raw.githubusercontent.com/PokeAPI/spri...  "
      ]
     },
     "execution_count": 10,
     "metadata": {},
     "output_type": "execute_result"
    }
   ],
   "source": [
    "api_data = {'Name': api_name, 'Type 1': api_type, 'Type 2': api_type2, 'Number': id_no, 'Speed': speed,\n",
    "           'Special Def': spdef, 'Special Atk': spatk, 'Defense': dfn, 'Attack': atk, 'HP': hp, 'Weight': weight,\n",
    "           'Base Experience': base_exp, 'Ability One': ability_one, 'Ability Two': ability_two, 'Back Sprite': back_sprite,\n",
    "           'Back Shiny': back_shiny, 'Front Sprite': front_sprite, 'Front Shiny': front_shiny}\n",
    "api_df = pd.DataFrame(api_data)\n",
    "\n",
    "api_df.head()"
   ]
  },
  {
   "cell_type": "code",
   "execution_count": 11,
   "metadata": {},
   "outputs": [],
   "source": [
    "# turn pokeapi into a csv file\n",
    "api_df.to_csv('pokeapi.csv', header=True)"
   ]
  },
  {
   "cell_type": "code",
   "execution_count": 12,
   "metadata": {},
   "outputs": [
    {
     "name": "stdout",
     "output_type": "stream",
     "text": [
      "[{'name': 'bulbasaur', 'url': 'https://pokeapi.co/api/v2/pokemon-species/1/'}, {'name': 'ivysaur', 'url': 'https://pokeapi.co/api/v2/pokemon-species/2/'}, {'name': 'venusaur', 'url': 'https://pokeapi.co/api/v2/pokemon-species/3/'}, {'name': 'charmander', 'url': 'https://pokeapi.co/api/v2/pokemon-species/4/'}, {'name': 'charmeleon', 'url': 'https://pokeapi.co/api/v2/pokemon-species/5/'}, {'name': 'charizard', 'url': 'https://pokeapi.co/api/v2/pokemon-species/6/'}, {'name': 'squirtle', 'url': 'https://pokeapi.co/api/v2/pokemon-species/7/'}, {'name': 'wartortle', 'url': 'https://pokeapi.co/api/v2/pokemon-species/8/'}, {'name': 'blastoise', 'url': 'https://pokeapi.co/api/v2/pokemon-species/9/'}, {'name': 'caterpie', 'url': 'https://pokeapi.co/api/v2/pokemon-species/10/'}, {'name': 'metapod', 'url': 'https://pokeapi.co/api/v2/pokemon-species/11/'}, {'name': 'butterfree', 'url': 'https://pokeapi.co/api/v2/pokemon-species/12/'}, {'name': 'weedle', 'url': 'https://pokeapi.co/api/v2/pokemon-species/13/'}, {'name': 'kakuna', 'url': 'https://pokeapi.co/api/v2/pokemon-species/14/'}, {'name': 'beedrill', 'url': 'https://pokeapi.co/api/v2/pokemon-species/15/'}, {'name': 'pidgey', 'url': 'https://pokeapi.co/api/v2/pokemon-species/16/'}, {'name': 'pidgeotto', 'url': 'https://pokeapi.co/api/v2/pokemon-species/17/'}, {'name': 'pidgeot', 'url': 'https://pokeapi.co/api/v2/pokemon-species/18/'}, {'name': 'rattata', 'url': 'https://pokeapi.co/api/v2/pokemon-species/19/'}, {'name': 'raticate', 'url': 'https://pokeapi.co/api/v2/pokemon-species/20/'}]\n"
     ]
    }
   ],
   "source": [
    "poke_dex = []\n",
    "url = 'https://pokeapi.co/api/v2/pokedex/1'\n",
    "poke_entry = requests.get(url).json()\n",
    "for entry in range(0, 20):\n",
    "    poke_dex.append(poke_entry['pokemon_entries'][entry]['pokemon_species'])\n",
    "\n",
    "print(poke_dex)"
   ]
  },
  {
   "cell_type": "markdown",
   "metadata": {},
   "source": [
    "# import dataframe to database"
   ]
  },
  {
   "cell_type": "markdown",
   "metadata": {},
   "source": [
    "## import dataframe to sqlite"
   ]
  },
  {
   "cell_type": "code",
   "execution_count": 13,
   "metadata": {},
   "outputs": [],
   "source": [
    "engine = create_engine('sqlite://', echo=False)\n",
    "#conn = engine.connect()"
   ]
  },
  {
   "cell_type": "code",
   "execution_count": 14,
   "metadata": {},
   "outputs": [],
   "source": [
    "api_df.to_sql('pokemon', con=engine, if_exists='replace')"
   ]
  },
  {
   "cell_type": "code",
   "execution_count": 15,
   "metadata": {},
   "outputs": [
    {
     "data": {
      "text/plain": [
       "[(0, 'bulbasaur', 'poison', 'grass', 1, 45, 65, 65, 49, 49, 45, 69, 64, 'chlorophyll', 'overgrow', 'https://raw.githubusercontent.com/PokeAPI/sprites/master/sprites/pokemon/back/1.png', 'https://raw.githubusercontent.com/PokeAPI/sprites/master/sprites/pokemon/back/shiny/1.png', 'https://raw.githubusercontent.com/PokeAPI/sprites/master/sprites/pokemon/1.png', 'https://raw.githubusercontent.com/PokeAPI/sprites/master/sprites/pokemon/shiny/1.png'),\n",
       " (1, 'ivysaur', 'poison', 'grass', 2, 60, 80, 80, 63, 62, 60, 130, 142, 'chlorophyll', 'overgrow', 'https://raw.githubusercontent.com/PokeAPI/sprites/master/sprites/pokemon/back/2.png', 'https://raw.githubusercontent.com/PokeAPI/sprites/master/sprites/pokemon/back/shiny/2.png', 'https://raw.githubusercontent.com/PokeAPI/sprites/master/sprites/pokemon/2.png', 'https://raw.githubusercontent.com/PokeAPI/sprites/master/sprites/pokemon/shiny/2.png'),\n",
       " (2, 'venusaur', 'poison', 'grass', 3, 80, 100, 100, 83, 82, 80, 1000, 236, 'chlorophyll', 'overgrow', 'https://raw.githubusercontent.com/PokeAPI/sprites/master/sprites/pokemon/back/3.png', 'https://raw.githubusercontent.com/PokeAPI/sprites/master/sprites/pokemon/back/shiny/3.png', 'https://raw.githubusercontent.com/PokeAPI/sprites/master/sprites/pokemon/3.png', 'https://raw.githubusercontent.com/PokeAPI/sprites/master/sprites/pokemon/shiny/3.png'),\n",
       " (3, 'charmander', 'fire', 'No Second Type', 4, 65, 50, 60, 43, 52, 39, 85, 62, 'solar-power', 'blaze', 'https://raw.githubusercontent.com/PokeAPI/sprites/master/sprites/pokemon/back/4.png', 'https://raw.githubusercontent.com/PokeAPI/sprites/master/sprites/pokemon/back/shiny/4.png', 'https://raw.githubusercontent.com/PokeAPI/sprites/master/sprites/pokemon/4.png', 'https://raw.githubusercontent.com/PokeAPI/sprites/master/sprites/pokemon/shiny/4.png'),\n",
       " (4, 'charmeleon', 'fire', 'No Second Type', 5, 80, 65, 80, 58, 64, 58, 190, 142, 'solar-power', 'blaze', 'https://raw.githubusercontent.com/PokeAPI/sprites/master/sprites/pokemon/back/5.png', 'https://raw.githubusercontent.com/PokeAPI/sprites/master/sprites/pokemon/back/shiny/5.png', 'https://raw.githubusercontent.com/PokeAPI/sprites/master/sprites/pokemon/5.png', 'https://raw.githubusercontent.com/PokeAPI/sprites/master/sprites/pokemon/shiny/5.png'),\n",
       " (5, 'charizard', 'flying', 'fire', 6, 100, 85, 109, 78, 84, 78, 905, 240, 'solar-power', 'blaze', 'https://raw.githubusercontent.com/PokeAPI/sprites/master/sprites/pokemon/back/6.png', 'https://raw.githubusercontent.com/PokeAPI/sprites/master/sprites/pokemon/back/shiny/6.png', 'https://raw.githubusercontent.com/PokeAPI/sprites/master/sprites/pokemon/6.png', 'https://raw.githubusercontent.com/PokeAPI/sprites/master/sprites/pokemon/shiny/6.png'),\n",
       " (6, 'squirtle', 'water', 'No Second Type', 7, 43, 64, 50, 65, 48, 44, 90, 63, 'rain-dish', 'torrent', 'https://raw.githubusercontent.com/PokeAPI/sprites/master/sprites/pokemon/back/7.png', 'https://raw.githubusercontent.com/PokeAPI/sprites/master/sprites/pokemon/back/shiny/7.png', 'https://raw.githubusercontent.com/PokeAPI/sprites/master/sprites/pokemon/7.png', 'https://raw.githubusercontent.com/PokeAPI/sprites/master/sprites/pokemon/shiny/7.png'),\n",
       " (7, 'wartortle', 'water', 'No Second Type', 8, 58, 80, 65, 80, 63, 59, 225, 142, 'rain-dish', 'torrent', 'https://raw.githubusercontent.com/PokeAPI/sprites/master/sprites/pokemon/back/8.png', 'https://raw.githubusercontent.com/PokeAPI/sprites/master/sprites/pokemon/back/shiny/8.png', 'https://raw.githubusercontent.com/PokeAPI/sprites/master/sprites/pokemon/8.png', 'https://raw.githubusercontent.com/PokeAPI/sprites/master/sprites/pokemon/shiny/8.png'),\n",
       " (8, 'blastoise', 'water', 'No Second Type', 9, 78, 105, 85, 100, 83, 79, 855, 239, 'rain-dish', 'torrent', 'https://raw.githubusercontent.com/PokeAPI/sprites/master/sprites/pokemon/back/9.png', 'https://raw.githubusercontent.com/PokeAPI/sprites/master/sprites/pokemon/back/shiny/9.png', 'https://raw.githubusercontent.com/PokeAPI/sprites/master/sprites/pokemon/9.png', 'https://raw.githubusercontent.com/PokeAPI/sprites/master/sprites/pokemon/shiny/9.png')]"
      ]
     },
     "execution_count": 15,
     "metadata": {},
     "output_type": "execute_result"
    }
   ],
   "source": [
    "engine.execute(\"select * from pokemon\").fetchall()"
   ]
  },
  {
   "cell_type": "markdown",
   "metadata": {},
   "source": [
    "## Import dataframe to MySQL"
   ]
  },
  {
   "cell_type": "code",
   "execution_count": 17,
   "metadata": {},
   "outputs": [
    {
     "data": {
      "text/plain": [
       "[]"
      ]
     },
     "execution_count": 17,
     "metadata": {},
     "output_type": "execute_result"
    }
   ],
   "source": [
    "# Create a database on MySQL\n",
    "# then connect to local database \n",
    "rds_connection_string = \"root:Tats3388@127.0.0.1/pokemon_db\"\n",
    "engine = create_engine(f'mysql://{rds_connection_string}')\n",
    "\n",
    "# Check for tables\n",
    "engine.table_names()"
   ]
  },
  {
   "cell_type": "code",
   "execution_count": 18,
   "metadata": {},
   "outputs": [],
   "source": [
    "api_df.to_sql(name='pokemon_db', con=engine, if_exists='replace', index=False)"
   ]
  },
  {
   "cell_type": "code",
   "execution_count": 19,
   "metadata": {},
   "outputs": [
    {
     "data": {
      "text/html": [
       "<div>\n",
       "<style scoped>\n",
       "    .dataframe tbody tr th:only-of-type {\n",
       "        vertical-align: middle;\n",
       "    }\n",
       "\n",
       "    .dataframe tbody tr th {\n",
       "        vertical-align: top;\n",
       "    }\n",
       "\n",
       "    .dataframe thead th {\n",
       "        text-align: right;\n",
       "    }\n",
       "</style>\n",
       "<table border=\"1\" class=\"dataframe\">\n",
       "  <thead>\n",
       "    <tr style=\"text-align: right;\">\n",
       "      <th></th>\n",
       "      <th>Name</th>\n",
       "      <th>Type 1</th>\n",
       "      <th>Type 2</th>\n",
       "      <th>Number</th>\n",
       "      <th>Speed</th>\n",
       "      <th>Special Def</th>\n",
       "      <th>Special Atk</th>\n",
       "      <th>Defense</th>\n",
       "      <th>Attack</th>\n",
       "      <th>HP</th>\n",
       "      <th>Weight</th>\n",
       "      <th>Base Experience</th>\n",
       "      <th>Ability One</th>\n",
       "      <th>Ability Two</th>\n",
       "      <th>Back Sprite</th>\n",
       "      <th>Back Shiny</th>\n",
       "      <th>Front Sprite</th>\n",
       "      <th>Front Shiny</th>\n",
       "    </tr>\n",
       "  </thead>\n",
       "  <tbody>\n",
       "    <tr>\n",
       "      <th>0</th>\n",
       "      <td>bulbasaur</td>\n",
       "      <td>poison</td>\n",
       "      <td>grass</td>\n",
       "      <td>1</td>\n",
       "      <td>45</td>\n",
       "      <td>65</td>\n",
       "      <td>65</td>\n",
       "      <td>49</td>\n",
       "      <td>49</td>\n",
       "      <td>45</td>\n",
       "      <td>69</td>\n",
       "      <td>64</td>\n",
       "      <td>chlorophyll</td>\n",
       "      <td>overgrow</td>\n",
       "      <td>https://raw.githubusercontent.com/PokeAPI/spri...</td>\n",
       "      <td>https://raw.githubusercontent.com/PokeAPI/spri...</td>\n",
       "      <td>https://raw.githubusercontent.com/PokeAPI/spri...</td>\n",
       "      <td>https://raw.githubusercontent.com/PokeAPI/spri...</td>\n",
       "    </tr>\n",
       "    <tr>\n",
       "      <th>1</th>\n",
       "      <td>ivysaur</td>\n",
       "      <td>poison</td>\n",
       "      <td>grass</td>\n",
       "      <td>2</td>\n",
       "      <td>60</td>\n",
       "      <td>80</td>\n",
       "      <td>80</td>\n",
       "      <td>63</td>\n",
       "      <td>62</td>\n",
       "      <td>60</td>\n",
       "      <td>130</td>\n",
       "      <td>142</td>\n",
       "      <td>chlorophyll</td>\n",
       "      <td>overgrow</td>\n",
       "      <td>https://raw.githubusercontent.com/PokeAPI/spri...</td>\n",
       "      <td>https://raw.githubusercontent.com/PokeAPI/spri...</td>\n",
       "      <td>https://raw.githubusercontent.com/PokeAPI/spri...</td>\n",
       "      <td>https://raw.githubusercontent.com/PokeAPI/spri...</td>\n",
       "    </tr>\n",
       "    <tr>\n",
       "      <th>2</th>\n",
       "      <td>venusaur</td>\n",
       "      <td>poison</td>\n",
       "      <td>grass</td>\n",
       "      <td>3</td>\n",
       "      <td>80</td>\n",
       "      <td>100</td>\n",
       "      <td>100</td>\n",
       "      <td>83</td>\n",
       "      <td>82</td>\n",
       "      <td>80</td>\n",
       "      <td>1000</td>\n",
       "      <td>236</td>\n",
       "      <td>chlorophyll</td>\n",
       "      <td>overgrow</td>\n",
       "      <td>https://raw.githubusercontent.com/PokeAPI/spri...</td>\n",
       "      <td>https://raw.githubusercontent.com/PokeAPI/spri...</td>\n",
       "      <td>https://raw.githubusercontent.com/PokeAPI/spri...</td>\n",
       "      <td>https://raw.githubusercontent.com/PokeAPI/spri...</td>\n",
       "    </tr>\n",
       "    <tr>\n",
       "      <th>3</th>\n",
       "      <td>charmander</td>\n",
       "      <td>fire</td>\n",
       "      <td>No Second Type</td>\n",
       "      <td>4</td>\n",
       "      <td>65</td>\n",
       "      <td>50</td>\n",
       "      <td>60</td>\n",
       "      <td>43</td>\n",
       "      <td>52</td>\n",
       "      <td>39</td>\n",
       "      <td>85</td>\n",
       "      <td>62</td>\n",
       "      <td>solar-power</td>\n",
       "      <td>blaze</td>\n",
       "      <td>https://raw.githubusercontent.com/PokeAPI/spri...</td>\n",
       "      <td>https://raw.githubusercontent.com/PokeAPI/spri...</td>\n",
       "      <td>https://raw.githubusercontent.com/PokeAPI/spri...</td>\n",
       "      <td>https://raw.githubusercontent.com/PokeAPI/spri...</td>\n",
       "    </tr>\n",
       "    <tr>\n",
       "      <th>4</th>\n",
       "      <td>charmeleon</td>\n",
       "      <td>fire</td>\n",
       "      <td>No Second Type</td>\n",
       "      <td>5</td>\n",
       "      <td>80</td>\n",
       "      <td>65</td>\n",
       "      <td>80</td>\n",
       "      <td>58</td>\n",
       "      <td>64</td>\n",
       "      <td>58</td>\n",
       "      <td>190</td>\n",
       "      <td>142</td>\n",
       "      <td>solar-power</td>\n",
       "      <td>blaze</td>\n",
       "      <td>https://raw.githubusercontent.com/PokeAPI/spri...</td>\n",
       "      <td>https://raw.githubusercontent.com/PokeAPI/spri...</td>\n",
       "      <td>https://raw.githubusercontent.com/PokeAPI/spri...</td>\n",
       "      <td>https://raw.githubusercontent.com/PokeAPI/spri...</td>\n",
       "    </tr>\n",
       "  </tbody>\n",
       "</table>\n",
       "</div>"
      ],
      "text/plain": [
       "         Name  Type 1          Type 2  Number  Speed  Special Def  \\\n",
       "0   bulbasaur  poison           grass       1     45           65   \n",
       "1     ivysaur  poison           grass       2     60           80   \n",
       "2    venusaur  poison           grass       3     80          100   \n",
       "3  charmander    fire  No Second Type       4     65           50   \n",
       "4  charmeleon    fire  No Second Type       5     80           65   \n",
       "\n",
       "   Special Atk  Defense  Attack  HP  Weight  Base Experience  Ability One  \\\n",
       "0           65       49      49  45      69               64  chlorophyll   \n",
       "1           80       63      62  60     130              142  chlorophyll   \n",
       "2          100       83      82  80    1000              236  chlorophyll   \n",
       "3           60       43      52  39      85               62  solar-power   \n",
       "4           80       58      64  58     190              142  solar-power   \n",
       "\n",
       "  Ability Two                                        Back Sprite  \\\n",
       "0    overgrow  https://raw.githubusercontent.com/PokeAPI/spri...   \n",
       "1    overgrow  https://raw.githubusercontent.com/PokeAPI/spri...   \n",
       "2    overgrow  https://raw.githubusercontent.com/PokeAPI/spri...   \n",
       "3       blaze  https://raw.githubusercontent.com/PokeAPI/spri...   \n",
       "4       blaze  https://raw.githubusercontent.com/PokeAPI/spri...   \n",
       "\n",
       "                                          Back Shiny  \\\n",
       "0  https://raw.githubusercontent.com/PokeAPI/spri...   \n",
       "1  https://raw.githubusercontent.com/PokeAPI/spri...   \n",
       "2  https://raw.githubusercontent.com/PokeAPI/spri...   \n",
       "3  https://raw.githubusercontent.com/PokeAPI/spri...   \n",
       "4  https://raw.githubusercontent.com/PokeAPI/spri...   \n",
       "\n",
       "                                        Front Sprite  \\\n",
       "0  https://raw.githubusercontent.com/PokeAPI/spri...   \n",
       "1  https://raw.githubusercontent.com/PokeAPI/spri...   \n",
       "2  https://raw.githubusercontent.com/PokeAPI/spri...   \n",
       "3  https://raw.githubusercontent.com/PokeAPI/spri...   \n",
       "4  https://raw.githubusercontent.com/PokeAPI/spri...   \n",
       "\n",
       "                                         Front Shiny  \n",
       "0  https://raw.githubusercontent.com/PokeAPI/spri...  \n",
       "1  https://raw.githubusercontent.com/PokeAPI/spri...  \n",
       "2  https://raw.githubusercontent.com/PokeAPI/spri...  \n",
       "3  https://raw.githubusercontent.com/PokeAPI/spri...  \n",
       "4  https://raw.githubusercontent.com/PokeAPI/spri...  "
      ]
     },
     "execution_count": 19,
     "metadata": {},
     "output_type": "execute_result"
    }
   ],
   "source": [
    "# Confirm data has been added by querying the pokemon_db table\n",
    "pd.read_sql_query('select * from pokemon_db', con=engine).head()"
   ]
  },
  {
   "cell_type": "code",
   "execution_count": null,
   "metadata": {},
   "outputs": [],
   "source": []
  },
  {
   "cell_type": "markdown",
   "metadata": {},
   "source": [
    "## import dataframe to MongoDB"
   ]
  },
  {
   "cell_type": "code",
   "execution_count": 2,
   "metadata": {},
   "outputs": [
    {
     "ename": "NameError",
     "evalue": "name 'pymongo' is not defined",
     "output_type": "error",
     "traceback": [
      "\u001b[0;31m---------------------------------------------------------------------------\u001b[0m",
      "\u001b[0;31mNameError\u001b[0m                                 Traceback (most recent call last)",
      "\u001b[0;32m<ipython-input-2-6578820dbc9b>\u001b[0m in \u001b[0;36m<module>\u001b[0;34m\u001b[0m\n\u001b[1;32m      1\u001b[0m \u001b[0mconn\u001b[0m \u001b[0;34m=\u001b[0m \u001b[0;34m'mongodb://localhost:27017'\u001b[0m\u001b[0;34m\u001b[0m\u001b[0;34m\u001b[0m\u001b[0m\n\u001b[0;32m----> 2\u001b[0;31m \u001b[0mclient\u001b[0m \u001b[0;34m=\u001b[0m \u001b[0mpymongo\u001b[0m\u001b[0;34m.\u001b[0m\u001b[0mMongoClient\u001b[0m\u001b[0;34m(\u001b[0m\u001b[0mconn\u001b[0m\u001b[0;34m)\u001b[0m\u001b[0;34m\u001b[0m\u001b[0;34m\u001b[0m\u001b[0m\n\u001b[0m",
      "\u001b[0;31mNameError\u001b[0m: name 'pymongo' is not defined"
     ]
    }
   ],
   "source": [
    "conn = 'mongodb://localhost:27017'\n",
    "client = pymongo.MongoClient(conn)"
   ]
  },
  {
   "cell_type": "code",
   "execution_count": 18,
   "metadata": {},
   "outputs": [],
   "source": [
    "# Declare the database and collection\n",
    "# db = client.pokemon_db\n",
    "# collection = db.info_db"
   ]
  },
  {
   "cell_type": "code",
   "execution_count": 19,
   "metadata": {},
   "outputs": [],
   "source": []
  },
  {
   "cell_type": "code",
   "execution_count": 20,
   "metadata": {},
   "outputs": [
    {
     "data": {
      "text/plain": [
       "<pymongo.results.InsertOneResult at 0x1284d8148>"
      ]
     },
     "execution_count": 20,
     "metadata": {},
     "output_type": "execute_result"
    }
   ],
   "source": [
    "collection.insert_one()"
   ]
  },
  {
   "cell_type": "code",
   "execution_count": 23,
   "metadata": {},
   "outputs": [
    {
     "data": {
      "text/plain": [
       "<pymongo.results.InsertOneResult at 0x126260588>"
      ]
     },
     "execution_count": 23,
     "metadata": {},
     "output_type": "execute_result"
    }
   ],
   "source": [
    "conn = 'mongodb://localhost:27017'\n",
    "client = pymongo.MongoClient(conn)\n",
    "\n",
    "db = client.pymongo_test\n",
    "collection = db.info_db\n",
    "\n",
    "post_data = {\n",
    "    'title': 'Python and MongoDB',\n",
    "    'content': 'PyMongo is fun, you guys',\n",
    "    'author': 'Scott'\n",
    "}\n",
    "\n",
    "collection.insert_one(post_data)"
   ]
  },
  {
   "cell_type": "code",
   "execution_count": 8,
   "metadata": {},
   "outputs": [
    {
     "ename": "NameError",
     "evalue": "name '__file__' is not defined",
     "output_type": "error",
     "traceback": [
      "\u001b[0;31m---------------------------------------------------------------------------\u001b[0m",
      "\u001b[0;31mNameError\u001b[0m                                 Traceback (most recent call last)",
      "\u001b[0;32m<ipython-input-8-428cdf0317f7>\u001b[0m in \u001b[0;36m<module>\u001b[0;34m\u001b[0m\n\u001b[1;32m     17\u001b[0m \u001b[0;32mif\u001b[0m \u001b[0m__name__\u001b[0m \u001b[0;34m==\u001b[0m \u001b[0;34m\"__main__\"\u001b[0m\u001b[0;34m:\u001b[0m\u001b[0;34m\u001b[0m\u001b[0;34m\u001b[0m\u001b[0m\n\u001b[1;32m     18\u001b[0m   \u001b[0mfilepath\u001b[0m \u001b[0;34m=\u001b[0m \u001b[0;34m'pokeapi.csv'\u001b[0m\u001b[0;34m\u001b[0m\u001b[0;34m\u001b[0m\u001b[0m\n\u001b[0;32m---> 19\u001b[0;31m   \u001b[0mimport_content\u001b[0m\u001b[0;34m(\u001b[0m\u001b[0mfilepath\u001b[0m\u001b[0;34m)\u001b[0m\u001b[0;34m\u001b[0m\u001b[0;34m\u001b[0m\u001b[0m\n\u001b[0m",
      "\u001b[0;32m<ipython-input-8-428cdf0317f7>\u001b[0m in \u001b[0;36mimport_content\u001b[0;34m(filepath)\u001b[0m\n\u001b[1;32m      7\u001b[0m     \u001b[0mcollection_name\u001b[0m \u001b[0;34m=\u001b[0m \u001b[0;34m'poke_info'\u001b[0m\u001b[0;34m\u001b[0m\u001b[0;34m\u001b[0m\u001b[0m\n\u001b[1;32m      8\u001b[0m     \u001b[0mdb_cm\u001b[0m \u001b[0;34m=\u001b[0m \u001b[0mmng_db\u001b[0m\u001b[0;34m[\u001b[0m\u001b[0mcollection_name\u001b[0m\u001b[0;34m]\u001b[0m\u001b[0;34m\u001b[0m\u001b[0;34m\u001b[0m\u001b[0m\n\u001b[0;32m----> 9\u001b[0;31m     \u001b[0mcdir\u001b[0m \u001b[0;34m=\u001b[0m \u001b[0mos\u001b[0m\u001b[0;34m.\u001b[0m\u001b[0mpath\u001b[0m\u001b[0;34m.\u001b[0m\u001b[0mdirname\u001b[0m\u001b[0;34m(\u001b[0m\u001b[0m__file__\u001b[0m\u001b[0;34m)\u001b[0m\u001b[0;34m\u001b[0m\u001b[0;34m\u001b[0m\u001b[0m\n\u001b[0m\u001b[1;32m     10\u001b[0m     \u001b[0mfile_res\u001b[0m \u001b[0;34m=\u001b[0m \u001b[0mos\u001b[0m\u001b[0;34m.\u001b[0m\u001b[0mpath\u001b[0m\u001b[0;34m.\u001b[0m\u001b[0mjoin\u001b[0m\u001b[0;34m(\u001b[0m\u001b[0mcdir\u001b[0m\u001b[0;34m,\u001b[0m \u001b[0mfilepath\u001b[0m\u001b[0;34m)\u001b[0m\u001b[0;34m\u001b[0m\u001b[0;34m\u001b[0m\u001b[0m\n\u001b[1;32m     11\u001b[0m \u001b[0;34m\u001b[0m\u001b[0m\n",
      "\u001b[0;31mNameError\u001b[0m: name '__file__' is not defined"
     ]
    }
   ],
   "source": [
    "import sys\n",
    "import json\n",
    "\n",
    "def import_content(filepath):\n",
    "    mng_client = pymongo.MongoClient('localhost', 27017)\n",
    "    mng_db = mng_client['pokemon_db']\n",
    "    collection_name = 'poke_info'\n",
    "    db_cm = mng_db[collection_name]\n",
    "    cdir = os.path.dirname(__file__)\n",
    "    file_res = os.path.join(cdir, filepath)\n",
    "\n",
    "    data = pd.read_csv('pokeapi.csv')\n",
    "    data_json = json.loads(data.to_json(orient='records'))\n",
    "    db_cm.remove()\n",
    "    db_cm.insert(data_json)\n",
    "\n",
    "if __name__ == \"__main__\":\n",
    "  filepath = 'pokeapi.csv'\n",
    "  import_content(filepath)"
   ]
  },
  {
   "cell_type": "code",
   "execution_count": null,
   "metadata": {},
   "outputs": [],
   "source": [
    "#https://stackoverflow.com/questions/27416296/how-to-push-a-csv-data-to-mongodb-using-python\n",
    "\n",
    "# from pymongo import MongoClient\n",
    "# import csv\n",
    "\n",
    "# # DB connectivity\n",
    "# client = MongoClient('localhost', 27017)\n",
    "# db = client.db\n",
    "# collection = db.collection\n",
    "\n",
    "# # Function to parse csv to dictionary\n",
    "# def csv_to_dict():\n",
    "#     reader = csv.DictReader(open(FILEPATH))\n",
    "#     result = {}\n",
    "#     for row in reader:\n",
    "#         key = row.pop('First_value')\n",
    "#         result[key] = row\n",
    "#     return query\n",
    "\n",
    "# # Final insert statement\n",
    "# db.collection.insert_one(csv_to_dict())"
   ]
  }
 ],
 "metadata": {
  "hide_input": false,
  "kernelspec": {
   "display_name": "Python 3",
   "language": "python",
   "name": "python3"
  },
  "language_info": {
   "codemirror_mode": {
    "name": "ipython",
    "version": 3
   },
   "file_extension": ".py",
   "mimetype": "text/x-python",
   "name": "python",
   "nbconvert_exporter": "python",
   "pygments_lexer": "ipython3",
   "version": "3.7.1"
  },
  "toc": {
   "base_numbering": 1,
   "nav_menu": {},
   "number_sections": true,
   "sideBar": true,
   "skip_h1_title": false,
   "title_cell": "Table of Contents",
   "title_sidebar": "Contents",
   "toc_cell": false,
   "toc_position": {},
   "toc_section_display": true,
   "toc_window_display": false
  },
  "varInspector": {
   "cols": {
    "lenName": 16,
    "lenType": 16,
    "lenVar": 40
   },
   "kernels_config": {
    "python": {
     "delete_cmd_postfix": "",
     "delete_cmd_prefix": "del ",
     "library": "var_list.py",
     "varRefreshCmd": "print(var_dic_list())"
    },
    "r": {
     "delete_cmd_postfix": ") ",
     "delete_cmd_prefix": "rm(",
     "library": "var_list.r",
     "varRefreshCmd": "cat(var_dic_list()) "
    }
   },
   "types_to_exclude": [
    "module",
    "function",
    "builtin_function_or_method",
    "instance",
    "_Feature"
   ],
   "window_display": false
  }
 },
 "nbformat": 4,
 "nbformat_minor": 2
}
