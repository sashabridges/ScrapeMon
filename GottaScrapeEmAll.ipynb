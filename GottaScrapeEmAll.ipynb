{
 "cells": [
  {
   "cell_type": "code",
   "execution_count": 42,
   "metadata": {},
   "outputs": [],
   "source": [
    "# Dependencies\n",
    "import os\n",
    "from splinter import Browser\n",
    "from bs4 import BeautifulSoup as bs\n",
    "import requests\n",
    "import pymongo\n",
    "import pandas as pd\n"
   ]
  },
  {
   "cell_type": "code",
   "execution_count": 43,
   "metadata": {},
   "outputs": [
    {
     "name": "stdout",
     "output_type": "stream",
     "text": [
      "/usr/local/bin/chromedriver\r\n"
     ]
    }
   ],
   "source": [
    "# TAD USE THIS CONNECTION\n",
    "#https://splinter.readthedocs.io/en/latest/drivers/chrome.html\n",
    "!which chromedriver\n",
    "executable_path = {'executable_path': '/usr/local/bin/chromedriver'}\n",
    "browser = Browser('chrome', **executable_path, headless=False)"
   ]
  },
  {
   "cell_type": "code",
   "execution_count": 5,
   "metadata": {},
   "outputs": [],
   "source": [
    "# EVERYONE ELSE USE THIS CONNECTION\n",
    "# executable_path = {'executable_path': 'chromedriver.exe'}\n",
    "# browser = Browser('chrome', **executable_path, headless=False)"
   ]
  },
  {
   "cell_type": "code",
   "execution_count": 75,
   "metadata": {},
   "outputs": [
    {
     "ename": "AttributeError",
     "evalue": "'NoneType' object has no attribute 'find_all'",
     "output_type": "error",
     "traceback": [
      "\u001b[0;31m---------------------------------------------------------------------------\u001b[0m",
      "\u001b[0;31mAttributeError\u001b[0m                            Traceback (most recent call last)",
      "\u001b[0;32m<ipython-input-75-6434142a8329>\u001b[0m in \u001b[0;36m<module>\u001b[0;34m\u001b[0m\n\u001b[1;32m     13\u001b[0m     \u001b[0;32mfor\u001b[0m \u001b[0minfo\u001b[0m \u001b[0;32min\u001b[0m \u001b[0minformation\u001b[0m\u001b[0;34m:\u001b[0m\u001b[0;34m\u001b[0m\u001b[0;34m\u001b[0m\u001b[0m\n\u001b[1;32m     14\u001b[0m         \u001b[0mtbody\u001b[0m \u001b[0;34m=\u001b[0m \u001b[0minfo\u001b[0m\u001b[0;34m.\u001b[0m\u001b[0mfind\u001b[0m\u001b[0;34m(\u001b[0m\u001b[0;34m'tbody'\u001b[0m\u001b[0;34m)\u001b[0m\u001b[0;34m\u001b[0m\u001b[0;34m\u001b[0m\u001b[0m\n\u001b[0;32m---> 15\u001b[0;31m         \u001b[0mtr\u001b[0m \u001b[0;34m=\u001b[0m \u001b[0mtbody\u001b[0m\u001b[0;34m.\u001b[0m\u001b[0mfind_all\u001b[0m\u001b[0;34m(\u001b[0m\u001b[0;34m'tr'\u001b[0m\u001b[0;34m,\u001b[0m \u001b[0mclass_\u001b[0m\u001b[0;34m=\u001b[0m\u001b[0;34m'fooinfo'\u001b[0m\u001b[0;34m)\u001b[0m\u001b[0;34m\u001b[0m\u001b[0;34m\u001b[0m\u001b[0m\n\u001b[0m\u001b[1;32m     16\u001b[0m \u001b[0;34m\u001b[0m\u001b[0m\n\u001b[1;32m     17\u001b[0m         \u001b[0;31m# td = tr.find_all('td')\u001b[0m\u001b[0;34m\u001b[0m\u001b[0;34m\u001b[0m\u001b[0;34m\u001b[0m\u001b[0m\n",
      "\u001b[0;31mAttributeError\u001b[0m: 'NoneType' object has no attribute 'find_all'"
     ]
    }
   ],
   "source": [
    "# FOR Bulbasaur\n",
    "url = 'https://www.serebii.net/pokedex-sm/001.shtml'\n",
    "browser.visit(url)\n",
    "\n",
    "for x in range(1, 100):\n",
    "\n",
    "    html = browser.html\n",
    "    soup = bs(html, 'html.parser')\n",
    "\n",
    "    # CHANGE THIS SO THAT IT FINDS THE RIGHT DATA\n",
    "    information = soup.find_all('table', class_='dextable')\n",
    "\n",
    "    for info in information:\n",
    "        tbody = info.find('tbody')\n",
    "        tr = tbody.find_all('tr', class_='fooinfo')\n",
    "\n",
    "        # td = tr.find_all('td')\n",
    "        \n",
    "        \n",
    "        \n",
    "#         #print('page:', x, '-------------')\n",
    "#         print(.text)\n",
    "\n",
    "#     #browser.click_link_by_partial_text('--->')"
   ]
  },
  {
   "cell_type": "code",
   "execution_count": 73,
   "metadata": {},
   "outputs": [
    {
     "name": "stdout",
     "output_type": "stream",
     "text": [
      "<tbody><tr>\n",
      "<td class=\"fooevo\" colspan=\"9\"><b>CP (Combat Points) - <a href=\"#\" onclick=\"return SwitchTable('notfull', 'full')\"><u>Toggle Full Details</u></a></b></td></tr>\n",
      "<tr><td class=\"fooevo\">Level</td><td class=\"fooevo\">Min CP</td><td class=\"fooevo\">Max CP</td><td class=\"fooevo\">Max CP With Candy</td></tr><tr><td class=\"fooinfo\">Level 1</td><td class=\"fooinfo\">2 CP</td><td class=\"fooinfo\">2 CP</td><td class=\"fooinfo\">2,450 CP</td></tr><tr><td class=\"fooinfo\">Level 2</td><td class=\"fooinfo\">5 CP</td><td class=\"fooinfo\">6 CP</td><td class=\"fooinfo\">2,502 CP</td></tr><tr><td class=\"fooinfo\">Level 3</td><td class=\"fooinfo\">9 CP</td><td class=\"fooinfo\">10 CP</td><td class=\"fooinfo\">2,554 CP</td></tr><tr><td class=\"fooinfo\">Level 4</td><td class=\"fooinfo\">14 CP</td><td class=\"fooinfo\">17 CP</td><td class=\"fooinfo\">2,609 CP</td></tr><tr><td class=\"fooinfo\">Level 5</td><td class=\"fooinfo\">20 CP</td><td class=\"fooinfo\">24 CP</td><td class=\"fooinfo\">2,664 CP</td></tr><tr><td class=\"fooinfo\">Level 6</td><td class=\"fooinfo\">26 CP</td><td class=\"fooinfo\">33 CP</td><td class=\"fooinfo\">2,721 CP</td></tr><tr><td class=\"fooinfo\">Level 7</td><td class=\"fooinfo\">34 CP</td><td class=\"fooinfo\">43 CP</td><td class=\"fooinfo\">2,779 CP</td></tr><tr><td class=\"fooinfo\">Level 8</td><td class=\"fooinfo\">42 CP</td><td class=\"fooinfo\">53 CP</td><td class=\"fooinfo\">2,837 CP</td></tr><tr><td class=\"fooinfo\">Level 9</td><td class=\"fooinfo\">51 CP</td><td class=\"fooinfo\">65 CP</td><td class=\"fooinfo\">2,897 CP</td></tr><tr><td class=\"fooinfo\">Level 10</td><td class=\"fooinfo\">63 CP</td><td class=\"fooinfo\">79 CP</td><td class=\"fooinfo\">2,959 CP</td></tr><tr><td class=\"fooinfo\">Level 11</td><td class=\"fooinfo\">72 CP</td><td class=\"fooinfo\">93 CP</td><td class=\"fooinfo\">3,021 CP</td></tr><tr><td class=\"fooinfo\">Level 12</td><td class=\"fooinfo\">84 CP</td><td class=\"fooinfo\">109 CP</td><td class=\"fooinfo\">3,085 CP</td></tr><tr><td class=\"fooinfo\">Level 13</td><td class=\"fooinfo\">96 CP</td><td class=\"fooinfo\">124 CP</td><td class=\"fooinfo\">3,148 CP</td></tr><tr><td class=\"fooinfo\">Level 14</td><td class=\"fooinfo\">111 CP</td><td class=\"fooinfo\">144 CP</td><td class=\"fooinfo\">3,216 CP</td></tr><tr><td class=\"fooinfo\">Level 15</td><td class=\"fooinfo\">126 CP</td><td class=\"fooinfo\">164 CP</td><td class=\"fooinfo\">3,284 CP</td></tr><tr><td class=\"fooinfo\">Level 16</td><td class=\"fooinfo\">141 CP</td><td class=\"fooinfo\">183 CP</td><td class=\"fooinfo\">3,351 CP</td></tr><tr><td class=\"fooinfo\">Level 17</td><td class=\"fooinfo\">159 CP</td><td class=\"fooinfo\">205 CP</td><td class=\"fooinfo\">3,421 CP</td></tr><tr><td class=\"fooinfo\">Level 18</td><td class=\"fooinfo\">174 CP</td><td class=\"fooinfo\">227 CP</td><td class=\"fooinfo\">3,491 CP</td></tr><tr><td class=\"fooinfo\">Level 19</td><td class=\"fooinfo\">192 CP</td><td class=\"fooinfo\">250 CP</td><td class=\"fooinfo\">3,562 CP</td></tr><tr><td class=\"fooinfo\">Level 20</td><td class=\"fooinfo\">213 CP</td><td class=\"fooinfo\">278 CP</td><td class=\"fooinfo\">3,638 CP</td></tr><tr><td class=\"fooinfo\">Level 21</td><td class=\"fooinfo\">230 CP</td><td class=\"fooinfo\">304 CP</td><td class=\"fooinfo\">3,712 CP</td></tr><tr><td class=\"fooinfo\">Level 22</td><td class=\"fooinfo\">250 CP</td><td class=\"fooinfo\">332 CP</td><td class=\"fooinfo\">3,788 CP</td></tr><tr><td class=\"fooinfo\">Level 23</td><td class=\"fooinfo\">271 CP</td><td class=\"fooinfo\">360 CP</td><td class=\"fooinfo\">3,864 CP</td></tr><tr><td class=\"fooinfo\">Level 24</td><td class=\"fooinfo\">296 CP</td><td class=\"fooinfo\">390 CP</td><td class=\"fooinfo\">3,942 CP</td></tr><tr><td class=\"fooinfo\">Level 25</td><td class=\"fooinfo\">319 CP</td><td class=\"fooinfo\">421 CP</td><td class=\"fooinfo\">4,021 CP</td></tr><tr><td class=\"fooinfo\">Level 26</td><td class=\"fooinfo\">343 CP</td><td class=\"fooinfo\">452 CP</td><td class=\"fooinfo\">4,100 CP</td></tr><tr><td class=\"fooinfo\">Level 27</td><td class=\"fooinfo\">370 CP</td><td class=\"fooinfo\">484 CP</td><td class=\"fooinfo\">4,180 CP</td></tr><tr><td class=\"fooinfo\">Level 28</td><td class=\"fooinfo\">396 CP</td><td class=\"fooinfo\">525 CP</td><td class=\"fooinfo\">4,269 CP</td></tr><tr><td class=\"fooinfo\">Level 29</td><td class=\"fooinfo\">421 CP</td><td class=\"fooinfo\">560 CP</td><td class=\"fooinfo\">4,352 CP</td></tr><tr><td class=\"fooinfo\">Level 30</td><td class=\"fooinfo\">451 CP</td><td class=\"fooinfo\">595 CP</td><td class=\"fooinfo\">4,435 CP</td></tr><tr><td class=\"fooinfo\">Level 31</td><td class=\"fooinfo\">476 CP</td><td class=\"fooinfo\">632 CP</td><td class=\"fooinfo\">4,520 CP</td></tr><tr><td class=\"fooinfo\">Level 32</td><td class=\"fooinfo\">504 CP</td><td class=\"fooinfo\">673 CP</td><td class=\"fooinfo\">4,609 CP</td></tr><tr><td class=\"fooinfo\">Level 33</td><td class=\"fooinfo\">534 CP</td><td class=\"fooinfo\">712 CP</td><td class=\"fooinfo\">4,696 CP</td></tr><tr><td class=\"fooinfo\">Level 34</td><td class=\"fooinfo\">569 CP</td><td class=\"fooinfo\">752 CP</td><td class=\"fooinfo\">4,784 CP</td></tr><tr><td class=\"fooinfo\">Level 35</td><td class=\"fooinfo\">600 CP</td><td class=\"fooinfo\">804 CP</td><td class=\"fooinfo\">4,884 CP</td></tr><tr><td class=\"fooinfo\">Level 36</td><td class=\"fooinfo\">632 CP</td><td class=\"fooinfo\">844 CP</td><td class=\"fooinfo\">4,972 CP</td></tr><tr><td class=\"fooinfo\">Level 37</td><td class=\"fooinfo\">670 CP</td><td class=\"fooinfo\">890 CP</td><td class=\"fooinfo\">5,066 CP</td></tr><tr><td class=\"fooinfo\">Level 38</td><td class=\"fooinfo\">704 CP</td><td class=\"fooinfo\">937 CP</td><td class=\"fooinfo\">5,161 CP</td></tr><tr><td class=\"fooinfo\">Level 39</td><td class=\"fooinfo\">739 CP</td><td class=\"fooinfo\">982 CP</td><td class=\"fooinfo\">5,254 CP</td></tr><tr><td class=\"fooinfo\">Level 40</td><td class=\"fooinfo\">777 CP</td><td class=\"fooinfo\">1,032 CP</td><td class=\"fooinfo\">5,352 CP</td></tr><tr><td class=\"fooinfo\">Level 41</td><td class=\"fooinfo\">809 CP</td><td class=\"fooinfo\">1,082 CP</td><td class=\"fooinfo\">5,450 CP</td></tr><tr><td class=\"fooinfo\">Level 42</td><td class=\"fooinfo\">846 CP</td><td class=\"fooinfo\">1,134 CP</td><td class=\"fooinfo\">5,550 CP</td></tr><tr><td class=\"fooinfo\">Level 43</td><td class=\"fooinfo\">884 CP</td><td class=\"fooinfo\">1,194 CP</td><td class=\"fooinfo\">5,658 CP</td></tr><tr><td class=\"fooinfo\">Level 44</td><td class=\"fooinfo\">929 CP</td><td class=\"fooinfo\">1,243 CP</td><td class=\"fooinfo\">5,755 CP</td></tr><tr><td class=\"fooinfo\">Level 45</td><td class=\"fooinfo\">969 CP</td><td class=\"fooinfo\">1,301 CP</td><td class=\"fooinfo\">5,861 CP</td></tr><tr><td class=\"fooinfo\">Level 46</td><td class=\"fooinfo\">1,010 CP</td><td class=\"fooinfo\">1,352 CP</td><td class=\"fooinfo\">5,960 CP</td></tr><tr><td class=\"fooinfo\">Level 47</td><td class=\"fooinfo\">1,057 CP</td><td class=\"fooinfo\">1,407 CP</td><td class=\"fooinfo\">6,063 CP</td></tr><tr><td class=\"fooinfo\">Level 48</td><td class=\"fooinfo\">1,100 CP</td><td class=\"fooinfo\">1,468 CP</td><td class=\"fooinfo\">6,172 CP</td></tr><tr><td class=\"fooinfo\">Level 49</td><td class=\"fooinfo\">1,143 CP</td><td class=\"fooinfo\">1,528 CP</td><td class=\"fooinfo\">6,280 CP</td></tr><tr><td class=\"fooinfo\">Level 50</td><td class=\"fooinfo\">1,194 CP</td><td class=\"fooinfo\">1,587 CP</td><td class=\"fooinfo\">6,387 CP</td></tr><tr><td class=\"fooinfo\">Level 51</td><td class=\"fooinfo\">1,227 CP</td><td class=\"fooinfo\">1,655 CP</td><td class=\"fooinfo\">6,503 CP</td></tr><tr><td class=\"fooinfo\">Level 52</td><td class=\"fooinfo\">1,269 CP</td><td class=\"fooinfo\">1,719 CP</td><td class=\"fooinfo\">6,615 CP</td></tr><tr><td class=\"fooinfo\">Level 53</td><td class=\"fooinfo\">1,316 CP</td><td class=\"fooinfo\">1,787 CP</td><td class=\"fooinfo\">6,731 CP</td></tr><tr><td class=\"fooinfo\">Level 54</td><td class=\"fooinfo\">1,370 CP</td><td class=\"fooinfo\">1,850 CP</td><td class=\"fooinfo\">6,842 CP</td></tr><tr><td class=\"fooinfo\">Level 55</td><td class=\"fooinfo\">1,419 CP</td><td class=\"fooinfo\">1,910 CP</td><td class=\"fooinfo\">6,950 CP</td></tr><tr><td class=\"fooinfo\">Level 56</td><td class=\"fooinfo\">1,468 CP</td><td class=\"fooinfo\">1,982 CP</td><td class=\"fooinfo\">7,070 CP</td></tr><tr><td class=\"fooinfo\">Level 57</td><td class=\"fooinfo\">1,525 CP</td><td class=\"fooinfo\">2,045 CP</td><td class=\"fooinfo\">7,181 CP</td></tr><tr><td class=\"fooinfo\">Level 58</td><td class=\"fooinfo\">1,576 CP</td><td class=\"fooinfo\">2,115 CP</td><td class=\"fooinfo\">7,299 CP</td></tr><tr><td class=\"fooinfo\">Level 59</td><td class=\"fooinfo\">1,628 CP</td><td class=\"fooinfo\">2,191 CP</td><td class=\"fooinfo\">7,423 CP</td></tr><tr><td class=\"fooinfo\">Level 60</td><td class=\"fooinfo\">1,688 CP</td><td class=\"fooinfo\">2,268 CP</td><td class=\"fooinfo\">7,548 CP</td></tr><tr><td class=\"fooinfo\">Level 61</td><td class=\"fooinfo\">1,734 CP</td><td class=\"fooinfo\">2,342 CP</td><td class=\"fooinfo\">7,670 CP</td></tr><tr><td class=\"fooinfo\">Level 62</td><td class=\"fooinfo\">1,789 CP</td><td class=\"fooinfo\">2,418 CP</td><td class=\"fooinfo\">7,794 CP</td></tr><tr><td class=\"fooinfo\">Level 63</td><td class=\"fooinfo\">1,840 CP</td><td class=\"fooinfo\">2,498 CP</td><td class=\"fooinfo\">7,922 CP</td></tr><tr><td class=\"fooinfo\">Level 64</td><td class=\"fooinfo\">1,904 CP</td><td class=\"fooinfo\">2,568 CP</td><td class=\"fooinfo\">8,040 CP</td></tr><tr><td class=\"fooinfo\">Level 65</td><td class=\"fooinfo\">1,961 CP</td><td class=\"fooinfo\">2,644 CP</td><td class=\"fooinfo\">8,164 CP</td></tr><tr><td class=\"fooinfo\">Level 66</td><td class=\"fooinfo\">2,019 CP</td><td class=\"fooinfo\">2,740 CP</td><td class=\"fooinfo\">8,308 CP</td></tr><tr><td class=\"fooinfo\">Level 67</td><td class=\"fooinfo\">2,086 CP</td><td class=\"fooinfo\">2,818 CP</td><td class=\"fooinfo\">8,434 CP</td></tr><tr><td class=\"fooinfo\">Level 68</td><td class=\"fooinfo\">2,146 CP</td><td class=\"fooinfo\">2,892 CP</td><td class=\"fooinfo\">8,556 CP</td></tr><tr><td class=\"fooinfo\">Level 69</td><td class=\"fooinfo\">2,206 CP</td><td class=\"fooinfo\">2,980 CP</td><td class=\"fooinfo\">8,692 CP</td></tr><tr><td class=\"fooinfo\">Level 70</td><td class=\"fooinfo\">2,276 CP</td><td class=\"fooinfo\">3,061 CP</td><td class=\"fooinfo\">8,821 CP</td></tr><tr><td class=\"fooinfo\">Level 71</td><td class=\"fooinfo\">2,330 CP</td><td class=\"fooinfo\">3,148 CP</td><td class=\"fooinfo\">8,956 CP</td></tr><tr><td class=\"fooinfo\">Level 72</td><td class=\"fooinfo\">2,393 CP</td><td class=\"fooinfo\">3,235 CP</td><td class=\"fooinfo\">9,091 CP</td></tr><tr><td class=\"fooinfo\">Level 73</td><td class=\"fooinfo\">2,457 CP</td><td class=\"fooinfo\">3,324 CP</td><td class=\"fooinfo\">9,228 CP</td></tr><tr><td class=\"fooinfo\">Level 74</td><td class=\"fooinfo\">2,526 CP</td><td class=\"fooinfo\">3,423 CP</td><td class=\"fooinfo\">9,375 CP</td></tr><tr><td class=\"fooinfo\">Level 75</td><td class=\"fooinfo\">2,592 CP</td><td class=\"fooinfo\">3,505 CP</td><td class=\"fooinfo\">9,505 CP</td></tr><tr><td class=\"fooinfo\">Level 76</td><td class=\"fooinfo\">2,658 CP</td><td class=\"fooinfo\">3,606 CP</td><td class=\"fooinfo\">9,654 CP</td></tr><tr><td class=\"fooinfo\">Level 77</td><td class=\"fooinfo\">2,735 CP</td><td class=\"fooinfo\">3,691 CP</td><td class=\"fooinfo\">9,787 CP</td></tr><tr><td class=\"fooinfo\">Level 78</td><td class=\"fooinfo\">2,803 CP</td><td class=\"fooinfo\">3,786 CP</td><td class=\"fooinfo\">9,930 CP</td></tr><tr><td class=\"fooinfo\">Level 79</td><td class=\"fooinfo\">2,872 CP</td><td class=\"fooinfo\">3,882 CP</td><td class=\"fooinfo\">10,000 CP</td></tr><tr><td class=\"fooinfo\">Level 80</td><td class=\"fooinfo\">2,952 CP</td><td class=\"fooinfo\">3,979 CP</td><td class=\"fooinfo\">10,000 CP</td></tr><tr><td class=\"fooinfo\">Level 81</td><td class=\"fooinfo\">3,013 CP</td><td class=\"fooinfo\">4,072 CP</td><td class=\"fooinfo\">10,000 CP</td></tr><tr><td class=\"fooinfo\">Level 82</td><td class=\"fooinfo\">3,084 CP</td><td class=\"fooinfo\">4,182 CP</td><td class=\"fooinfo\">10,000 CP</td></tr><tr><td class=\"fooinfo\">Level 83</td><td class=\"fooinfo\">3,157 CP</td><td class=\"fooinfo\">4,282 CP</td><td class=\"fooinfo\">10,000 CP</td></tr><tr><td class=\"fooinfo\">Level 84</td><td class=\"fooinfo\">3,240 CP</td><td class=\"fooinfo\">4,384 CP</td><td class=\"fooinfo\">10,000 CP</td></tr><tr><td class=\"fooinfo\">Level 85</td><td class=\"fooinfo\">3,309 CP</td><td class=\"fooinfo\">4,482 CP</td><td class=\"fooinfo\">10,000 CP</td></tr><tr><td class=\"fooinfo\">Level 86</td><td class=\"fooinfo\">3,384 CP</td><td class=\"fooinfo\">4,582 CP</td><td class=\"fooinfo\">10,000 CP</td></tr><tr><td class=\"fooinfo\">Level 87</td><td class=\"fooinfo\">3,471 CP</td><td class=\"fooinfo\">4,692 CP</td><td class=\"fooinfo\">10,000 CP</td></tr><tr><td class=\"fooinfo\">Level 88</td><td class=\"fooinfo\">3,548 CP</td><td class=\"fooinfo\">4,799 CP</td><td class=\"fooinfo\">10,000 CP</td></tr><tr><td class=\"fooinfo\">Level 89</td><td class=\"fooinfo\">3,625 CP</td><td class=\"fooinfo\">4,902 CP</td><td class=\"fooinfo\">10,000 CP</td></tr><tr><td class=\"fooinfo\">Level 90</td><td class=\"fooinfo\">3,715 CP</td><td class=\"fooinfo\">5,016 CP</td><td class=\"fooinfo\">10,000 CP</td></tr><tr><td class=\"fooinfo\">Level 91</td><td class=\"fooinfo\">3,783 CP</td><td class=\"fooinfo\">5,132 CP</td><td class=\"fooinfo\">10,000 CP</td></tr><tr><td class=\"fooinfo\">Level 92</td><td class=\"fooinfo\">3,864 CP</td><td class=\"fooinfo\">5,238 CP</td><td class=\"fooinfo\">10,000 CP</td></tr><tr><td class=\"fooinfo\">Level 93</td><td class=\"fooinfo\">3,945 CP</td><td class=\"fooinfo\">5,345 CP</td><td class=\"fooinfo\">10,000 CP</td></tr><tr><td class=\"fooinfo\">Level 94</td><td class=\"fooinfo\">4,038 CP</td><td class=\"fooinfo\">5,459 CP</td><td class=\"fooinfo\">10,000 CP</td></tr><tr><td class=\"fooinfo\">Level 95</td><td class=\"fooinfo\">4,121 CP</td><td class=\"fooinfo\">5,563 CP</td><td class=\"fooinfo\">10,000 CP</td></tr><tr><td class=\"fooinfo\">Level 96</td><td class=\"fooinfo\">4,199 CP</td><td class=\"fooinfo\">5,685 CP</td><td class=\"fooinfo\">10,000 CP</td></tr><tr><td class=\"fooinfo\">Level 97</td><td class=\"fooinfo\">4,295 CP</td><td class=\"fooinfo\">5,831 CP</td><td class=\"fooinfo\">10,000 CP</td></tr><tr><td class=\"fooinfo\">Level 98</td><td class=\"fooinfo\">4,380 CP</td><td class=\"fooinfo\">5,938 CP</td><td class=\"fooinfo\">10,000 CP</td></tr><tr><td class=\"fooinfo\">Level 99</td><td class=\"fooinfo\">4,466 CP</td><td class=\"fooinfo\">6,052 CP</td><td class=\"fooinfo\">10,000 CP</td></tr><tr><td class=\"fooinfo\">Level 100</td><td class=\"fooinfo\">4,566 CP</td><td class=\"fooinfo\">6,186 CP</td><td class=\"fooinfo\">10,000 CP</td></tr></tbody>\n"
     ]
    }
   ],
   "source": [
    "print(tbody)"
   ]
  },
  {
   "cell_type": "code",
   "execution_count": null,
   "metadata": {},
   "outputs": [],
   "source": [
    "# FOR BULBAPEDIA\n",
    "url = 'https://bulbapedia.bulbagarden.net/wiki/Bulbasaur_(Pok%C3%A9mon)'\n",
    "browser.visit(url)\n",
    "\n",
    "for x in range(1, 100):\n",
    "\n",
    "    html = browser.html\n",
    "    soup = BeautifulSoup(html, 'html.parser')\n",
    "\n",
    "    # CHANGE THIS SO THAT IT FINDS THE RIGHT DATA\n",
    "    quotes = soup.find_all('span', class_='text')\n",
    "\n",
    "    for quote in quotes:\n",
    "        print('page:', x, '-------------')\n",
    "        print(quote.text)\n",
    "\n",
    "    browser.click_link_by_partial_text('Next')"
   ]
  },
  {
   "cell_type": "code",
   "execution_count": null,
   "metadata": {},
   "outputs": [],
   "source": []
  }
 ],
 "metadata": {
  "hide_input": false,
  "kernelspec": {
   "display_name": "Python 3",
   "language": "python",
   "name": "python3"
  },
  "language_info": {
   "codemirror_mode": {
    "name": "ipython",
    "version": 3
   },
   "file_extension": ".py",
   "mimetype": "text/x-python",
   "name": "python",
   "nbconvert_exporter": "python",
   "pygments_lexer": "ipython3",
   "version": "3.6.7"
  },
  "toc": {
   "base_numbering": 1,
   "nav_menu": {},
   "number_sections": true,
   "sideBar": true,
   "skip_h1_title": false,
   "title_cell": "Table of Contents",
   "title_sidebar": "Contents",
   "toc_cell": false,
   "toc_position": {},
   "toc_section_display": true,
   "toc_window_display": false
  },
  "varInspector": {
   "cols": {
    "lenName": 16,
    "lenType": 16,
    "lenVar": 40
   },
   "kernels_config": {
    "python": {
     "delete_cmd_postfix": "",
     "delete_cmd_prefix": "del ",
     "library": "var_list.py",
     "varRefreshCmd": "print(var_dic_list())"
    },
    "r": {
     "delete_cmd_postfix": ") ",
     "delete_cmd_prefix": "rm(",
     "library": "var_list.r",
     "varRefreshCmd": "cat(var_dic_list()) "
    }
   },
   "types_to_exclude": [
    "module",
    "function",
    "builtin_function_or_method",
    "instance",
    "_Feature"
   ],
   "window_display": false
  }
 },
 "nbformat": 4,
 "nbformat_minor": 2
}
